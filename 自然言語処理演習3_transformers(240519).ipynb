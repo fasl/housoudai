{
  "nbformat": 4,
  "nbformat_minor": 0,
  "metadata": {
    "colab": {
      "provenance": []
    },
    "kernelspec": {
      "name": "python3",
      "display_name": "Python 3"
    },
    "language_info": {
      "name": "python"
    }
  },
  "cells": [
    {
      "cell_type": "markdown",
      "source": [
        "機械学習(自然言語処理)入門 2024/5/19\n",
        "\n",
        "放送大学・多摩学習センター 森川 馨"
      ],
      "metadata": {
        "id": "WhIkscfqyhYE"
      }
    },
    {
      "cell_type": "markdown",
      "source": [
        "以下の 演習は Hugging Face Couse 2: The pipeline function より引用した\n"
      ],
      "metadata": {
        "id": "_TcO4LTaGTSb"
      }
    },
    {
      "cell_type": "markdown",
      "source": [
        "I. テキストの分類(Text classification)\n",
        "\n",
        "1.1　感情分析"
      ],
      "metadata": {
        "id": "j_sF9g3jrf8W"
      }
    },
    {
      "cell_type": "markdown",
      "source": [
        "演習１　下の” 　”の中に文(ただし英語)を入れて、この文(テキスト)が positive な文か negative な文か感情分析をしてみよう\n",
        "\n",
        "例 I've been waiting for a HuggingFace course my whole life."
      ],
      "metadata": {
        "id": "ZtoPawt-0jUM"
      }
    },
    {
      "cell_type": "code",
      "source": [
        "from transformers import pipeline\n",
        "\n",
        "classifier = pipeline(\"sentiment-analysis\")\n",
        "classifier([\"\"\n",
        "])"
      ],
      "metadata": {
        "id": "YTOKYJWEUjsA"
      },
      "execution_count": null,
      "outputs": []
    },
    {
      "cell_type": "markdown",
      "source": [
        "演習２　下の2つの”　 ”の中に2つのテキスト(ただし英語)を入れて感情分析をしてみよう\n",
        "\n",
        "例\n",
        "\n",
        "I've been waiting for a HuggingFace course my whole life.\n",
        "\n",
        "I hate this so much!"
      ],
      "metadata": {
        "id": "LoNAHpCC1URk"
      }
    },
    {
      "cell_type": "code",
      "source": [
        "from transformers import pipeline\n",
        "\n",
        "classifier = pipeline(\"sentiment-analysis\")\n",
        "classifier([\"\",\n",
        "            \"\"\n",
        "])"
      ],
      "metadata": {
        "id": "KxYtaw6tDdZB"
      },
      "execution_count": null,
      "outputs": []
    },
    {
      "cell_type": "markdown",
      "source": [
        "1.2　ゼロショット学習(Zero-shot classification)"
      ],
      "metadata": {
        "id": "qycGq9GZODIo"
      }
    },
    {
      "cell_type": "markdown",
      "source": [
        "演習３　下の”　 ”の中にテキスト(ただし英語)を入れて候補に挙げた分類のうちどれに近いか分類してみよう\n",
        "\n",
        "例\n",
        "\n",
        "This is a course about the Transformers library."
      ],
      "metadata": {
        "id": "yLQzdkxb2uBQ"
      }
    },
    {
      "cell_type": "code",
      "source": [
        "from transformers import pipeline\n",
        "\n",
        "classifier = pipeline(\"zero-shot-classification\")\n",
        "classifier(\n",
        "    \"\",\n",
        "    candidate_labels=[\"education\", \"politics\", \"business\"],\n",
        ")"
      ],
      "metadata": {
        "id": "uz049Z7RERLN"
      },
      "execution_count": null,
      "outputs": []
    },
    {
      "cell_type": "markdown",
      "source": [
        "II.　テキスト生成(Text generation)"
      ],
      "metadata": {
        "id": "-m64piZwEtw-"
      }
    },
    {
      "cell_type": "markdown",
      "source": [
        "演習４　下の”　 ”の中にテキスト(ただし英語)を入れてテキストを生成してみよう\n",
        "\n",
        "例\n",
        "\n",
        "In this course, we will teach you how to"
      ],
      "metadata": {
        "id": "GDCSJNws3Lv2"
      }
    },
    {
      "cell_type": "code",
      "source": [
        "from transformers import pipeline\n",
        "generator = pipeline(\"text-generation\")\n",
        "generator(\"\")"
      ],
      "metadata": {
        "id": "A_G0DDB7EyWj"
      },
      "execution_count": null,
      "outputs": []
    },
    {
      "cell_type": "markdown",
      "source": [
        "演習５　今度は、30字以内の2つの文を生成してみよう。前問と同様に下の”　 ”の中にテキスト(ただし英語)を入れて生成してみよう\n",
        "\n",
        "例\n",
        "\n",
        "In this course, we will teach you how to"
      ],
      "metadata": {
        "id": "TL8GeWMzSQip"
      }
    },
    {
      "cell_type": "code",
      "source": [
        "from transformers import pipeline\n",
        "generator = pipeline(\"text-generation\", model=\"distilgpt2\")\n",
        "generator(\n",
        "    \"\",\n",
        "    max_length=30,\n",
        "    num_return_sequences=2,\n",
        ")"
      ],
      "metadata": {
        "id": "kTv9Z1QgkFOf"
      },
      "execution_count": null,
      "outputs": []
    },
    {
      "cell_type": "markdown",
      "source": [
        "III.　単語埋め込み(Text completion(mask filling))"
      ],
      "metadata": {
        "id": "VS12X3ccGXCm"
      }
    },
    {
      "cell_type": "markdown",
      "source": [
        "演習６　下の”　 ”の中にテキスト(ただし英語)を入れて単語の埋め込みをしてみよう\n",
        "\n",
        "例\n",
        "\n",
        "This course, we will teach you all about mask(ただし、mask は鍵括弧< >の中に入れること) models."
      ],
      "metadata": {
        "id": "q4PgKOqfCMdw"
      }
    },
    {
      "cell_type": "code",
      "source": [
        "from transformers import pipeline\n",
        "\n",
        "unmasker = pipeline(\"fill-mask\")\n",
        "unmasker(\"\")"
      ],
      "metadata": {
        "id": "nloexH7UGd06"
      },
      "execution_count": null,
      "outputs": []
    },
    {
      "cell_type": "markdown",
      "source": [
        "演習７　下の”　 ”の中にテキスト(ただし英語)を入れて単語の埋め込みの候補を2例示してみよう\n",
        "\n",
        "例\n",
        "\n",
        "This course, we will teach you all about mask(ただし、mask を鍵括弧< >の中に入れること) models."
      ],
      "metadata": {
        "id": "1lJdJELDD0IF"
      }
    },
    {
      "cell_type": "code",
      "source": [
        "from transformers import pipeline\n",
        "\n",
        "unmasker = pipeline(\"fill-mask\")\n",
        "unmasker(\"\", top_k=2)"
      ],
      "metadata": {
        "id": "B2ZGi0FmkFAa"
      },
      "execution_count": null,
      "outputs": []
    },
    {
      "cell_type": "markdown",
      "source": [
        "IV.　トークンの分類(Token classification)\n",
        "\n",
        "固有表現認識(NER:Named Entity Recognition)"
      ],
      "metadata": {
        "id": "M4cp24yRG_ze"
      }
    },
    {
      "cell_type": "markdown",
      "source": [
        "演習８　下の ”　 ”の中にテキスト(ただし英語)を入れて固有表現を抽出してみよう\n",
        "\n",
        "例\n",
        "\n",
        "My name is Hoso Taro and I work at Hugging Face in Brooklyn."
      ],
      "metadata": {
        "id": "xzmPaRpyFP6N"
      }
    },
    {
      "cell_type": "code",
      "source": [
        "from transformers import pipeline\n",
        "\n",
        "ner = pipeline(\"ner\", grouped_entities=True)\n",
        "ner(\"\")"
      ],
      "metadata": {
        "id": "teYigvrDHNfT"
      },
      "execution_count": null,
      "outputs": []
    },
    {
      "cell_type": "markdown",
      "source": [
        "\n",
        "\n",
        "V. 　質問応答（Question answering）"
      ],
      "metadata": {
        "id": "FoEt7QzvJELX"
      }
    },
    {
      "cell_type": "markdown",
      "source": [
        "演習９　下の2つの ” ”の中に質問と回答のもとになるテキスト(ただし英語)を入れて質問応答をしてみよう\n",
        "\n",
        "例\n",
        "\n",
        "Where do I work?\n",
        "\n",
        "My name is Hoso Taro and I work at Hugging Face in Brooklyn."
      ],
      "metadata": {
        "id": "XC4-IivuG4ml"
      }
    },
    {
      "cell_type": "code",
      "source": [
        "from transformers import pipeline\n",
        "\n",
        "question_answerer = pipeline(\"question-answering\")\n",
        "question_answerer(\n",
        "    question=\"\",\n",
        "    context=\"\"\n",
        ")"
      ],
      "metadata": {
        "id": "RHDFuY5aoaxG"
      },
      "execution_count": null,
      "outputs": []
    },
    {
      "cell_type": "markdown",
      "source": [
        "VI.　要約生成(Summarization)"
      ],
      "metadata": {
        "id": "UPwE3WvlKQGV"
      }
    },
    {
      "cell_type": "markdown",
      "source": [
        "演習10　下のテキストを \"\"”　 \"\"”の中に入れ(ただし、テキストはsummarizerの次の行に文頭に4文字の空白(インデント)を入れる)、要約を生成してみよう"
      ],
      "metadata": {
        "id": "7hJAm09WJAj2"
      }
    },
    {
      "cell_type": "markdown",
      "source": [
        "America has changed dramatically during recent years. Not only has the number of graduates in traditional engineering disciplines such as mechanical, civil, electrical, chemical, and aeronautical engineering declined, but in most of the premier American universities engineering curricula now concentrate and encourage largely the study of engineering science. As a result, there are declining offerings in engineering subject dealing with infrastructure, the environment, and related issues, and greater concentration on high technology subjects, largely supporting increasingly complex scientific developments. While the latter is important, it should not be at the expense of more traditional engineering.  \n",
        "Rapidly developing economies such as China and India, as well as other industrial countries in Europe and Asia, continue to encourage and advance the teaching of engineering both China and India respectively graduate six and eight times as many traditional engineers as does the United states. Other industrial countries at minimum maintain their output, while America suffers an increasingly serious decline in the number of engineering graduates and a lack of well-educated engineers."
      ],
      "metadata": {
        "id": "IygTTUon2UuO"
      }
    },
    {
      "cell_type": "code",
      "source": [
        "from transformers import pipeline\n",
        "\n",
        "summarizer = pipeline(\"summarization\")\n",
        "summarizer(\"\"\"\n",
        "\n",
        "\"\"\")"
      ],
      "metadata": {
        "id": "CwG-7cykKZxu"
      },
      "execution_count": null,
      "outputs": []
    },
    {
      "cell_type": "code",
      "source": [
        "# 入力例\n",
        "from transformers import pipeline\n",
        "\n",
        "summarizer = pipeline(\"summarization\")\n",
        "summarizer(\"\"\"\n",
        "    America has changed dramatically during recent years. Not only has the number of\n",
        "           graduates in traditional engineering disciplines such as mechanical, civil,\n",
        "           electrical, chemical, and aeronautical engineering declined, but in most of\n",
        "           the premier American universities engineering curricula now concentrate\n",
        "           and encourage largely the study of engineering science. As a result, there\n",
        "           are declining offerings in engineering subject dealing with infrastructure,\n",
        "           the environment, and related issues, and greater concentration on high\n",
        "           technology subjects, largely supporting increasingly complex scientific\n",
        "           developments. While the latter is important, it should not be at the\n",
        "           expense of more traditional engineering.\n",
        "\n",
        "           Rapidly developing economies such as China and India, as well as other\n",
        "           industrial countries in Europe and Asia, continue to encourage and advance\n",
        "           the teaching of engineering both China and India respectively graduate\n",
        "           six and eight times as many traditional engineers as does the United states.\n",
        "           Other industrial countries at minimum maintain their output, while America\n",
        "           suffers an increasingly serious decline in the number of engineering graduates\n",
        "           and a lack of well-educated engineers.\n",
        "\"\"\")"
      ],
      "metadata": {
        "id": "j9xIsxHsx82F"
      },
      "execution_count": null,
      "outputs": []
    },
    {
      "cell_type": "markdown",
      "source": [
        "VII.　翻訳(Translation)"
      ],
      "metadata": {
        "id": "prr_pcuAK9Hg"
      }
    },
    {
      "cell_type": "markdown",
      "source": [
        "演習11　下の ”　 ”の中に翻訳のもとになるテキスト(ただしフランス語)を入れて英語に翻訳してみよう\n",
        "\n",
        "例\n",
        "\n",
        "Ce cours est produkt par Hugging Face."
      ],
      "metadata": {
        "id": "O3EUoqRaL6AM"
      }
    },
    {
      "cell_type": "code",
      "source": [
        "from transformers import pipeline\n",
        "\n",
        "translator = pipeline(\"translation\", model=\"Helsinki-NLP/opus-mt-fr-en\")\n",
        "translator(\"\")"
      ],
      "metadata": {
        "id": "dwSAudURLGvf"
      },
      "execution_count": null,
      "outputs": []
    }
  ]
}