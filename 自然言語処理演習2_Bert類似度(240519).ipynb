{
  "nbformat": 4,
  "nbformat_minor": 0,
  "metadata": {
    "colab": {
      "provenance": []
    },
    "kernelspec": {
      "name": "python3",
      "display_name": "Python 3"
    },
    "language_info": {
      "name": "python"
    }
  },
  "cells": [
    {
      "cell_type": "markdown",
      "source": [
        "機械学習(自然言語処理)入門演習2　 2024/5/19\n",
        "\n",
        "放送大学・多摩学習センター 森川 馨"
      ],
      "metadata": {
        "id": "Or5ug2PTEA50"
      }
    },
    {
      "cell_type": "markdown",
      "source": [
        "##Transformer(BERT) を使ってテキスト内の単語の類似度を求めてみよう"
      ],
      "metadata": {
        "id": "y_GjgkbZkwfj"
      }
    },
    {
      "cell_type": "code",
      "execution_count": null,
      "metadata": {
        "id": "gspcb85eD4kt"
      },
      "outputs": [],
      "source": [
        "!pip install transformers"
      ]
    },
    {
      "cell_type": "code",
      "source": [
        "import torch\n",
        "import torch.nn.functional as F\n",
        "from transformers import BertTokenizer, BertModel"
      ],
      "metadata": {
        "id": "zrcCMiCsD_gD"
      },
      "execution_count": null,
      "outputs": []
    },
    {
      "cell_type": "code",
      "source": [
        "model_name = \"bert-base-uncased\"\n",
        "tokenizer = BertTokenizer.from_pretrained(model_name)\n",
        "bert_model = BertModel.from_pretrained(model_name)"
      ],
      "metadata": {
        "id": "hMKN-BC8D-_8"
      },
      "execution_count": null,
      "outputs": []
    },
    {
      "cell_type": "code",
      "source": [
        "print(bert_model.config)"
      ],
      "metadata": {
        "id": "eCEgKderEX0r"
      },
      "execution_count": null,
      "outputs": []
    },
    {
      "cell_type": "code",
      "source": [
        "print(bert_model)"
      ],
      "metadata": {
        "id": "mVMf73AfEbzE"
      },
      "execution_count": null,
      "outputs": []
    },
    {
      "cell_type": "code",
      "source": [
        "text_list = [\"The animal didn't cross the street, because it was too tired.\"]"
      ],
      "metadata": {
        "id": "FgKh3CMMElZT"
      },
      "execution_count": null,
      "outputs": []
    },
    {
      "cell_type": "code",
      "source": [
        "encoding = tokenizer(text_list, max_length=18, padding=\"max_length\", truncation=True, return_tensors=\"pt\")\n",
        "encoding"
      ],
      "metadata": {
        "id": "oYk9o_CvEzH8"
      },
      "execution_count": null,
      "outputs": []
    },
    {
      "cell_type": "code",
      "source": [
        "output = bert_model(**encoding, output_hidden_states=True)"
      ],
      "metadata": {
        "id": "mZ-i9EF2EzkM"
      },
      "execution_count": null,
      "outputs": []
    },
    {
      "cell_type": "code",
      "source": [
        "# cos 類似度　0層目の0番目の2単語目\n",
        "print(text_list[0])\n",
        "layer0_similarity = F.cosine_similarity(output[2][0][0][2].reshape(1, -1), output[2][0][0][11].reshape(1, -1))\n",
        "layer12_similarity = F.cosine_similarity(output[2][-1][0][2].reshape(1, -1), output[2][-1][0][11].reshape(1, -1))\n",
        "print(f\"0層目: {round(layer0_similarity.item(), 3)}\")\n",
        "print(f\"最終層目: {round(layer12_similarity.item(), 3)}\")"
      ],
      "metadata": {
        "id": "gDJGwClQEz4k"
      },
      "execution_count": null,
      "outputs": []
    },
    {
      "cell_type": "code",
      "source": [
        "# cos 類似度　0層目の0番目の8単語目\n",
        "print(text_list[0])\n",
        "layer0_similarity = F.cosine_similarity(output[2][0][0][8].reshape(1, -1), output[2][0][0][11].reshape(1, -1))\n",
        "layer12_similarity = F.cosine_similarity(output[2][-1][0][8].reshape(1, -1), output[2][-1][0][11].reshape(1, -1))\n",
        "print(f\"0層目: {round(layer0_similarity.item(), 3)}\")\n",
        "print(f\"最終層目: {round(layer12_similarity.item(), 3)}\")"
      ],
      "metadata": {
        "id": "V0P-SdCSFEks"
      },
      "execution_count": null,
      "outputs": []
    },
    {
      "cell_type": "code",
      "source": [
        "text_list = [\"The animal didn't cross the street, because it was too crowded.\"]"
      ],
      "metadata": {
        "id": "zERDY1clFH89"
      },
      "execution_count": null,
      "outputs": []
    },
    {
      "cell_type": "code",
      "source": [
        "encoding = tokenizer(text_list, max_length=18, padding=\"max_length\", truncation=True, return_tensors=\"pt\")\n",
        "encoding"
      ],
      "metadata": {
        "id": "MVT6mVxyFQGE"
      },
      "execution_count": null,
      "outputs": []
    },
    {
      "cell_type": "code",
      "source": [
        "output = bert_model(**encoding, output_hidden_states=True)"
      ],
      "metadata": {
        "id": "oQDHz_8JFRVE"
      },
      "execution_count": null,
      "outputs": []
    },
    {
      "cell_type": "code",
      "source": [
        "# cos 類似度　0層目の0番目の2単語目\n",
        "print(text_list[0])\n",
        "layer0_similarity = F.cosine_similarity(output[2][0][0][2].reshape(1, -1), output[2][0][0][11].reshape(1, -1))\n",
        "layer12_similarity = F.cosine_similarity(output[2][-1][0][2].reshape(1, -1), output[2][-1][0][11].reshape(1, -1))\n",
        "print(f\"0層目: {round(layer0_similarity.item(), 3)}\")\n",
        "print(f\"最終層目: {round(layer12_similarity.item(), 3)}\")"
      ],
      "metadata": {
        "id": "ZCLDV1nAFWnc"
      },
      "execution_count": null,
      "outputs": []
    },
    {
      "cell_type": "code",
      "source": [
        "# cos 類似度　0層目の0番目の8単語目\n",
        "print(text_list[0])\n",
        "layer0_similarity = F.cosine_similarity(output[2][0][0][8].reshape(1, -1), output[2][0][0][11].reshape(1, -1))\n",
        "layer12_similarity = F.cosine_similarity(output[2][-1][0][8].reshape(1, -1), output[2][-1][0][11].reshape(1, -1))\n",
        "print(f\"0層目: {round(layer0_similarity.item(), 3)}\")\n",
        "print(f\"最終層目: {round(layer12_similarity.item(), 3)}\")"
      ],
      "metadata": {
        "id": "YtXsponiFaEc"
      },
      "execution_count": null,
      "outputs": []
    },
    {
      "cell_type": "markdown",
      "source": [
        "##BERT は類義語、多義語を識別できるか調べてみよう"
      ],
      "metadata": {
        "id": "MO_nbDx0FHLD"
      }
    },
    {
      "cell_type": "code",
      "source": [
        "text_list = [\"I'm reading a book\",\n",
        "             \"I'd like to book a room\",\n",
        "             \"I'd like to reserve a room\",\n",
        "             \"Please reserve this table for us\"]"
      ],
      "metadata": {
        "id": "nqWMI6eNG2Br"
      },
      "execution_count": null,
      "outputs": []
    },
    {
      "cell_type": "code",
      "source": [
        "encoding = tokenizer(text_list, max_length=10, padding=\"max_length\", truncation=True, return_tensors=\"pt\")\n",
        "encoding"
      ],
      "metadata": {
        "id": "gLhvter5G2VG"
      },
      "execution_count": null,
      "outputs": []
    },
    {
      "cell_type": "code",
      "source": [
        "output = bert_model(**encoding, output_hidden_states=True)"
      ],
      "metadata": {
        "id": "m93dwmSVG29j"
      },
      "execution_count": null,
      "outputs": []
    },
    {
      "cell_type": "code",
      "source": [
        "# 多義語\n",
        "# cos 類似度　0層目の0番目の6単語目\n",
        "print(text_list[0], \",\", text_list[1])\n",
        "layer0_similarity = F.cosine_similarity(output[2][0][0][6].reshape(1, -1), output[2][0][1][6].reshape(1, -1))\n",
        "layer12_similarity = F.cosine_similarity(output[2][-1][0][6].reshape(1, -1), output[2][-1][1][6].reshape(1, -1))\n",
        "print(f\"0層目: {round(layer0_similarity.item(), 3)}\")\n",
        "print(f\"最終層目: {round(layer12_similarity.item(), 3)}\")"
      ],
      "metadata": {
        "id": "cII13XULHsPk"
      },
      "execution_count": null,
      "outputs": []
    },
    {
      "cell_type": "code",
      "source": [
        "# 類義語(同じ文脈)\n",
        "print(text_list[1], \",\", text_list[2])\n",
        "layer0_similarity = F.cosine_similarity(output[2][0][1][6].reshape(1, -1), output[2][0][2][6].reshape(1, -1))\n",
        "layer12_similarity = F.cosine_similarity(output[2][-1][1][6].reshape(1, -1), output[2][-1][2][6].reshape(1, -1))\n",
        "print(f\"0層目: {round(layer0_similarity.item(), 3)}\")\n",
        "print(f\"最終層目: {round(layer12_similarity.item(), 3)}\")"
      ],
      "metadata": {
        "id": "giHaxa41Hzu-"
      },
      "execution_count": null,
      "outputs": []
    },
    {
      "cell_type": "code",
      "source": [
        "# 類義語(違う文脈)\n",
        "print(text_list[1], \",\", text_list[3])\n",
        "layer0_similarity = F.cosine_similarity(output[2][0][1][6].reshape(1, -1), output[2][0][3][2].reshape(1, -1))\n",
        "layer12_similarity = F.cosine_similarity(output[2][-1][1][6].reshape(1, -1), output[2][-1][3][2].reshape(1, -1))\n",
        "print(f\"0層目: {round(layer0_similarity.item(), 3)}\")\n",
        "print(f\"最終層目: {round(layer12_similarity.item(), 3)}\")"
      ],
      "metadata": {
        "id": "jkI_qqRFH6Dw"
      },
      "execution_count": null,
      "outputs": []
    }
  ]
}