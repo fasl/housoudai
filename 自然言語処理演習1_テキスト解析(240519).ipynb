{
  "nbformat": 4,
  "nbformat_minor": 0,
  "metadata": {
    "colab": {
      "provenance": []
    },
    "kernelspec": {
      "name": "python3",
      "display_name": "Python 3"
    },
    "language_info": {
      "name": "python"
    }
  },
  "cells": [
    {
      "cell_type": "markdown",
      "source": [
        "機械学習(自然言語処理)入門 2024/5/19\n",
        "\n",
        "放送大学・多摩学習センター 森川 馨"
      ],
      "metadata": {
        "id": "MWxHdLwovWHQ"
      }
    },
    {
      "cell_type": "markdown",
      "source": [
        "テキスト解析"
      ],
      "metadata": {
        "id": "6Ew5m0b-7CqU"
      }
    },
    {
      "cell_type": "markdown",
      "source": [
        "1. 形態素解析"
      ],
      "metadata": {
        "id": "a1SIyHoB7HNQ"
      }
    },
    {
      "cell_type": "code",
      "source": [
        "# 35 秒かかる\n",
        "!pip install janome\n",
        "import numpy as np"
      ],
      "metadata": {
        "id": "SvfquHF_6y_J"
      },
      "execution_count": null,
      "outputs": []
    },
    {
      "cell_type": "code",
      "source": [
        "from janome.tokenizer import Tokenizer\n",
        "t = Tokenizer()\n",
        "text = \"国境の長いトンネルを抜けると雪国であった。\""
      ],
      "metadata": {
        "id": "93txcQTu6y7j"
      },
      "execution_count": null,
      "outputs": []
    },
    {
      "cell_type": "code",
      "source": [
        "for token in t.tokenize(text):\n",
        "  print(token)\n"
      ],
      "metadata": {
        "id": "Zcaz2xbZ6y0a"
      },
      "execution_count": null,
      "outputs": []
    },
    {
      "cell_type": "code",
      "source": [
        "from janome.tokenizer import Tokenizer\n",
        "t = Tokenizer()\n",
        "text = \"国境の長いトンネルを抜けると雪国であった。夜の底が白くなった。信号所に汽車が止まった。\""
      ],
      "metadata": {
        "id": "7OTkm58e6yp7"
      },
      "execution_count": null,
      "outputs": []
    },
    {
      "cell_type": "code",
      "source": [
        "for token in t.tokenize(text):\n",
        "  if token.part_of_speech.split(',')[0] == '名詞':\n",
        "    print(token.surface)"
      ],
      "metadata": {
        "id": "AqAQ9n_I7yKG"
      },
      "execution_count": null,
      "outputs": []
    },
    {
      "cell_type": "code",
      "source": [
        "for token in t.tokenize(text):\n",
        "  if token.part_of_speech.split(',')[0] == '動詞':\n",
        "    print(token.base_form)"
      ],
      "metadata": {
        "id": "FlD3EVlj7yC3"
      },
      "execution_count": null,
      "outputs": []
    },
    {
      "cell_type": "markdown",
      "source": [
        "2. テキスト分析"
      ],
      "metadata": {
        "id": "GAu5XaSy8HcL"
      }
    },
    {
      "cell_type": "code",
      "source": [
        "#形態素解析\n",
        "# Documents\n",
        "import janome.tokenizer\n",
        "d_1 = \"Pythonは楽しい\"\n",
        "d_2 = \"バイクは速く走る\"\n",
        "d_3 = \"プログラミングは楽しい\"\n",
        "d_4 = \"三輪車はゆっくり走る\"\n",
        "d_5 = \"自転車はゆっくり走る\"\n",
        "d_6 = \"車は速く走る\""
      ],
      "metadata": {
        "id": "dimL9egG7x9O"
      },
      "execution_count": null,
      "outputs": []
    },
    {
      "cell_type": "code",
      "source": [
        "# 分かち書き\n",
        "tokenizer = janome.tokenizer.Tokenizer()\n",
        "print([token.base_form for token in tokenizer.tokenize(d_1)])"
      ],
      "metadata": {
        "id": "sKf6vqTW7x0f"
      },
      "execution_count": null,
      "outputs": []
    },
    {
      "cell_type": "code",
      "source": [
        "# Vocabularyを作る\n",
        "tokens_1 = [token.base_form for token in tokenizer.tokenize(d_1)]\n",
        "tokens_2 = [token.base_form for token in tokenizer.tokenize(d_2)]\n",
        "tokens_3 = [token.base_form for token in tokenizer.tokenize(d_3)]\n",
        "tokens_4 = [token.base_form for token in tokenizer.tokenize(d_4)]\n",
        "tokens_5 = [token.base_form for token in tokenizer.tokenize(d_5)]\n",
        "tokens_6 = [token.base_form for token in tokenizer.tokenize(d_6)]\n",
        "vocabulary = list(set(tokens_1+tokens_2+tokens_3+tokens_4+tokens_5+tokens_6))\n",
        "print(vocabulary)"
      ],
      "metadata": {
        "id": "mbibhktC7xse"
      },
      "execution_count": null,
      "outputs": []
    },
    {
      "cell_type": "code",
      "source": [
        "for i in range(len(vocabulary)):\n",
        "    print(\"token ID : {}, token : {}\".format(i,vocabulary[i]))\n"
      ],
      "metadata": {
        "id": "-CuUrd-C8j2p"
      },
      "execution_count": null,
      "outputs": []
    },
    {
      "cell_type": "code",
      "source": [
        "# One-hotベクトルを作る\n",
        "import sklearn.preprocessing\n",
        "vocabulary_onehot = sklearn.preprocessing.label_binarize(vocabulary,classes=vocabulary)\n",
        "for token, onehotvec in zip(vocabulary,vocabulary_onehot):\n",
        "    print(\"one-hot vector : {}, token : {}\".format(onehotvec,token))"
      ],
      "metadata": {
        "id": "uIrEbPRt8jyY"
      },
      "execution_count": null,
      "outputs": []
    },
    {
      "cell_type": "code",
      "source": [
        "# 任意のOne-hot表現を取り出す\n",
        "token_index = vocabulary.index(\"走る\")\n",
        "print(\"「走る」のOne-hot表現は {}\".format(vocabulary_onehot[token_index]))"
      ],
      "metadata": {
        "id": "wpW1QsDf8jum"
      },
      "execution_count": null,
      "outputs": []
    },
    {
      "cell_type": "markdown",
      "source": [
        "3. 特異値分解(singular value decomposition)"
      ],
      "metadata": {
        "id": "wAIcZcNb9D7W"
      }
    },
    {
      "cell_type": "code",
      "source": [
        "import numpy as np\n",
        "from numpy.linalg import svd, matrix_rank\n",
        "np.set_printoptions(precision=3, suppress=True)\n",
        "A = np.array([[1,0,0,0,0,0],[0,1,0,0,0,0],[0,0,1,0,0,0],\n",
        "              [0,0,0,1,1,0],[1,0,1,0,0,0],[0,0,0,1,0,0],\n",
        "              [0,0,0,0,1,0],[0,0,0,0,0,1],[0,1,0,1,1,1],\n",
        "              [0,1,0,0,0,1]])"
      ],
      "metadata": {
        "id": "FiPhcDBq8jqm"
      },
      "execution_count": null,
      "outputs": []
    },
    {
      "cell_type": "code",
      "source": [
        "print('matrix A\\n', A)\n",
        "print('rank: ', matrix_rank(A))\n"
      ],
      "metadata": {
        "id": "1_a5pYTm8jk-"
      },
      "execution_count": null,
      "outputs": []
    },
    {
      "cell_type": "code",
      "source": [
        "# 特異値分解(singular value decomposition)\n",
        "u, s, vt = svd(A)\n",
        "print('\\nSVD result')\n",
        "print('shape of u, s, vt:', u.shape, s.shape, vt.shape)\n",
        "print('singular values:', s.round(2))"
      ],
      "metadata": {
        "id": "sfBOm6v89Ymd"
      },
      "execution_count": null,
      "outputs": []
    },
    {
      "cell_type": "code",
      "source": [
        "# full_matrices=Falseの場合\n",
        "u, s, vh = svd(A, full_matrices=False)\n",
        "print('\\nSVD result (full_matrices: False)')\n",
        "print('shape of u, s, vt:', u.shape, s.shape, vt.shape)"
      ],
      "metadata": {
        "id": "Wec7ZDZI9YfP"
      },
      "execution_count": null,
      "outputs": []
    },
    {
      "cell_type": "code",
      "source": [
        "print(u, '\\n')\n",
        "print(np.diag(s), '\\n')\n",
        "print(vt)"
      ],
      "metadata": {
        "id": "VduU0G3E9YPX"
      },
      "execution_count": null,
      "outputs": []
    },
    {
      "cell_type": "code",
      "source": [
        "# 特異値分解の結果を確かめる\n",
        "A_re = (u @ np.diag(s) @ vh).round(2)\n",
        "print('\\nreconstructed A:\\n', A_re)"
      ],
      "metadata": {
        "id": "cWRBrGIx9YHN"
      },
      "execution_count": null,
      "outputs": []
    },
    {
      "cell_type": "code",
      "source": [
        "print(np.dot(u.T,u))\n",
        "print(np.dot(u,u.T))\n",
        "print(np.dot(vt, vt.T))\n",
        "print(np.dot(vt.T, vt))\n",
        "print(np.dot(np.diag(s),vt.T)[:,:3])\n",
        "print(np.dot(np.diag(s),vh.T))"
      ],
      "metadata": {
        "id": "LD-OAynY9X6V"
      },
      "execution_count": null,
      "outputs": []
    },
    {
      "cell_type": "markdown",
      "source": [
        "4. 単語分散表現(単語埋め込み)"
      ],
      "metadata": {
        "id": "6AQAPQpF0BYd"
      }
    },
    {
      "cell_type": "markdown",
      "source": [
        "Google Newsデータセット（約1,000億単語）での学習済み単語ベクトル（300万単語・フレーズ，300次元）をダウンロードし，単語ベクトルを表示してみよう．"
      ],
      "metadata": {
        "id": "-CaOCkIX0Xoo"
      }
    },
    {
      "cell_type": "code",
      "source": [
        "import gdown\n",
        "\n",
        "# 学習済み単語ベクトルのダウンロード\n",
        "url = 'https://drive.google.com/uc?id=0B7XkCwpI5KDYNlNUTTlSS21pQmM'\n",
        "output = 'GoogleNews-vectors-negative300.bin.gz'\n",
        "gdown.download(url, output, quiet=False)"
      ],
      "metadata": {
        "id": "5CNOO5uVzM3g"
      },
      "execution_count": null,
      "outputs": []
    },
    {
      "cell_type": "code",
      "source": [
        "# 1分2秒かかる\n",
        "from gensim.models import KeyedVectors\n",
        "\n",
        "# 学習済みモデルのロード\n",
        "model = KeyedVectors.load_word2vec_format('./GoogleNews-vectors-negative300.bin.gz', binary=True)"
      ],
      "metadata": {
        "id": "EeVuxH1P0iCy"
      },
      "execution_count": null,
      "outputs": []
    },
    {
      "cell_type": "code",
      "source": [
        "# 単語ベクトルの表示\n",
        "model['Japan']"
      ],
      "metadata": {
        "id": "jBzLI4Y10vY8"
      },
      "execution_count": null,
      "outputs": []
    },
    {
      "cell_type": "code",
      "source": [
        "inf=model['Japan']\n",
        "inf.shape"
      ],
      "metadata": {
        "id": "6VYZVwxF7zpw"
      },
      "execution_count": null,
      "outputs": []
    },
    {
      "cell_type": "code",
      "source": [
        "# 単語ベクトルの表示\n",
        "model['United_States']"
      ],
      "metadata": {
        "id": "VQpfMdgW0nbz"
      },
      "execution_count": null,
      "outputs": []
    },
    {
      "cell_type": "markdown",
      "source": [
        "単語の類似度(コサイン類似度の計算)"
      ],
      "metadata": {
        "id": "TV4JLXXw02tI"
      }
    },
    {
      "cell_type": "code",
      "source": [
        "model.similarity('Japan', 'Tokyo')"
      ],
      "metadata": {
        "id": "e1e3AZpU2KN7"
      },
      "execution_count": null,
      "outputs": []
    },
    {
      "cell_type": "code",
      "source": [
        "model.similarity('Japan', 'Washington')"
      ],
      "metadata": {
        "id": "9jgKv_1e131y"
      },
      "execution_count": null,
      "outputs": []
    },
    {
      "cell_type": "code",
      "source": [
        "model.similarity('Tokyo', 'Washington')"
      ],
      "metadata": {
        "id": "REjSrKnl2AH6"
      },
      "execution_count": null,
      "outputs": []
    },
    {
      "cell_type": "markdown",
      "source": [
        "類似度の高い単語10件"
      ],
      "metadata": {
        "id": "MG5Rx2F94gWj"
      }
    },
    {
      "cell_type": "code",
      "source": [
        "model.most_similar('Japan', topn=10)"
      ],
      "metadata": {
        "id": "v_s_UeE3ogdv"
      },
      "execution_count": null,
      "outputs": []
    },
    {
      "cell_type": "code",
      "source": [
        "model.most_similar('Tokyo', topn=10)"
      ],
      "metadata": {
        "id": "_lmkzLxM4wPM"
      },
      "execution_count": null,
      "outputs": []
    },
    {
      "cell_type": "code",
      "source": [
        "model.most_similar('United_States', topn=10)"
      ],
      "metadata": {
        "id": "w3EkId9V4lm8"
      },
      "execution_count": null,
      "outputs": []
    },
    {
      "cell_type": "markdown",
      "source": [
        "単語ベクトルのベクトル演算"
      ],
      "metadata": {
        "id": "mtXyWCdFqEAS"
      }
    },
    {
      "cell_type": "code",
      "source": [
        "model.most_similar(positive=['king', 'woman'], negative=['man'], topn=10)"
      ],
      "metadata": {
        "id": "OacgExNO5NSi"
      },
      "execution_count": null,
      "outputs": []
    },
    {
      "cell_type": "code",
      "source": [
        "model.most_similar(positive=['woman', 'father'], negative=['man'], topn=10)"
      ],
      "metadata": {
        "id": "PWdaSXCS_SUW"
      },
      "execution_count": null,
      "outputs": []
    },
    {
      "cell_type": "code",
      "source": [
        "model.most_similar(positive=['woman', 'nephew'], negative=['man'], topn=10)"
      ],
      "metadata": {
        "id": "ALLttVBgAqlK"
      },
      "execution_count": null,
      "outputs": []
    },
    {
      "cell_type": "code",
      "source": [
        "model.most_similar(positive=['woman', 'uncle'], negative=['man'], topn=10)"
      ],
      "metadata": {
        "id": "WoAYPe8OC4-C"
      },
      "execution_count": null,
      "outputs": []
    },
    {
      "cell_type": "code",
      "source": [
        "model.most_similar(positive=['Hitler', 'Italy'], negative=['Germany'], topn=10)"
      ],
      "metadata": {
        "id": "ygRKGxzsCOwM"
      },
      "execution_count": null,
      "outputs": []
    },
    {
      "cell_type": "code",
      "source": [
        "model.most_similar(positive=['Spain', 'Athens'], negative=['Madrid'], topn=10)"
      ],
      "metadata": {
        "id": "XYgEMewd5Fyw"
      },
      "execution_count": null,
      "outputs": []
    }
  ]
}